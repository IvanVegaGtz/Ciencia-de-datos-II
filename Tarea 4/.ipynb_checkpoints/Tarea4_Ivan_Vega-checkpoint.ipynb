{
 "cells": [
  {
   "cell_type": "markdown",
   "metadata": {
    "id": "a8c26JgnZwxK"
   },
   "source": [
    "<font size=\"5\"><center>Tópicos selectos de ciencia de datos<center><font>\n",
    "<font size=\"4\"><center>Tarea 4<center>\n",
    "<font size=\"4\"><center>Ejercicio 1<center>\n",
    "<font size=\"4\"><center>Iván Vega Gutiérrez<center>"
   ]
  },
  {
   "cell_type": "markdown",
   "metadata": {
    "id": "GAn2vESqZwxN"
   },
   "source": [
    "1. Considera un modelo *seq2seq with attention* para la tarea de traducción automática entre idiomas (NMT), como el que mostramos en clase, y se encuentra en el GitHub del curso. \n",
    "\n",
    "    a) Obtén un modelo NMT para inglés-español y español-inglés. Puedes basarte en el código que dimos, y hacerle los cambios que creas conveniente, por ejemplo, ¿es mejor usar LSTM en vez de GRU? ¿qué tanto mejora el resultado si usas capas bidireccionales? Reporta y discute las características de tu modelo, y cualquier hallazgo que creas conveniente. Puedes usar el mismo corpus paralelo que usamos en clase, el cual se obtuvo de [ManyThings.org](http://www.manythings.org/anki/). Si decides usar otro corpus, repórtalo.\n",
    "    \n",
    "    b) Implementa una función `translate_text(source_txt)` que pueda realizar la traducción de sentencias nuevas, es decir, que no estén en el corpus que usaste para entrenar o validar tu modelo. Visualiza los pesos de atención entre una sentencia del lenguaje fuente y su respectiva traducción, para verificar su \"alineamiento\". Recuerda que tu modelo debe funcionar para traducir entre ambos idiomas.\n",
    "    \n",
    "    c) Una métrica para evaluar la calidad de la traducción es BLEU (Bilingual Evaluation Understudy, Papinoni et al., 2002). Realiza la evaluación de tu modelo mediante BLEU usando un conjunto de sentencias de prueba. Da tu opinión sobre la calidad de la traducción. Puedes usar librerías existentes o implementarlo tu mismo (ve por ejemplo, [éste link](https://blog.machinetranslation.io/compute-bleu-score/) para la implementación).\n",
    "    \n",
    "    d) El modelo NMT con atención que vimos en clase, está basado en la propuesta de Bahdanau et. al., (2015), pero otras opciones son las llamadas \"Atención Global\" y \"Atención Local\" propuesta por [Luong et. al., (2015)](https://arxiv.org/abs/1508.04025). Describe brevemente las diferencias entre éstos enfoques de atención, y cuál crees que es mejor para la tarea de traducción automática. \n",
    "    \n",
    "    **OPCIONAL** (puntos extra): impleméntalo y verifica su desempeño comparado con la de Bahdanau."
   ]
  },
  {
   "cell_type": "markdown",
   "metadata": {
    "id": "T865zycSZwxR"
   },
   "source": [
    "**Solución de a)** Para obtener un modelo Neural Machine Translation (NMT) se "
   ]
  },
  {
   "cell_type": "markdown",
   "metadata": {
    "id": "oFQFk0-UZwxT"
   },
   "source": [
    "### Librerías"
   ]
  },
  {
   "cell_type": "code",
   "execution_count": 6,
   "metadata": {
    "id": "RO4btWgdZwxU"
   },
   "outputs": [],
   "source": [
    "import pandas as pd\n",
    "import numpy as np\n",
    "import os"
   ]
  },
  {
   "cell_type": "code",
   "execution_count": 7,
   "metadata": {
    "id": "NncxVZiKZwxV"
   },
   "outputs": [],
   "source": [
    "from __future__ import unicode_literals, print_function, division\n",
    "from io import open\n",
    "import unicodedata\n",
    "import string\n",
    "import re\n",
    "import random\n",
    "import torch\n",
    "import torch.nn as nn\n",
    "from torch import optim\n",
    "import torch.nn.functional as F\n",
    "%matplotlib inline"
   ]
  },
  {
   "cell_type": "markdown",
   "metadata": {
    "id": "CkLum6W9ZwxX"
   },
   "source": [
    "## Datos"
   ]
  },
  {
   "cell_type": "markdown",
   "metadata": {
    "id": "aJJhuWWLZwxY"
   },
   "source": [
    "Los datos que se utilizaron fueron descargados de https://www.manythings.org/anki/  "
   ]
  },
  {
   "cell_type": "code",
   "execution_count": 8,
   "metadata": {
    "id": "4WdYRRAGZwxa"
   },
   "outputs": [],
   "source": [
    "#Limpieza de los datos\n",
    "df = pd.read_csv('/content/drive/MyDrive/Tarea4CienciaDeDatos/spa.txt',encoding='utf-8', sep='\t',  names=['English', 'Spanish', 'Attribution'])\n",
    "# drop attribution\n",
    "df.drop(['Attribution'], axis=1, inplace=True)\n",
    "# remove multiple spaces\n",
    "df.English = df.English.apply(lambda x: \" \".join(x.split()))\n",
    "df.Spanish = df.Spanish.apply(lambda x: \" \".join(x.split()))\n",
    "# remove punctuations\n",
    "#translator= str.maketrans('','', string.punctuation)\n",
    "#df.English= df.English.apply(lambda x: x.translate(translator))\n",
    "#df.Spanish= df.Spanish.apply(lambda x: x.translate(translator))\n",
    "# lowercase\n",
    "df.English = df.English.apply(lambda x: x.lower())\n",
    "df.Spanish = df.Spanish.apply(lambda x: x.lower())\n",
    "df.to_csv('eng-spa.txt', header=False, index = False, sep =  '\\t')"
   ]
  },
  {
   "cell_type": "code",
   "execution_count": 9,
   "metadata": {
    "colab": {
     "base_uri": "https://localhost:8080/",
     "height": 424
    },
    "id": "16JNA1Z7Zwxc",
    "outputId": "c1afe34c-6d74-49ee-a2ce-3ad4451bbfac"
   },
   "outputs": [
    {
     "data": {
      "text/html": [
       "\n",
       "  <div id=\"df-3e8cb158-4a43-4182-9d1a-a2cb3dadc2b7\">\n",
       "    <div class=\"colab-df-container\">\n",
       "      <div>\n",
       "<style scoped>\n",
       "    .dataframe tbody tr th:only-of-type {\n",
       "        vertical-align: middle;\n",
       "    }\n",
       "\n",
       "    .dataframe tbody tr th {\n",
       "        vertical-align: top;\n",
       "    }\n",
       "\n",
       "    .dataframe thead th {\n",
       "        text-align: right;\n",
       "    }\n",
       "</style>\n",
       "<table border=\"1\" class=\"dataframe\">\n",
       "  <thead>\n",
       "    <tr style=\"text-align: right;\">\n",
       "      <th></th>\n",
       "      <th>English</th>\n",
       "      <th>Spanish</th>\n",
       "    </tr>\n",
       "  </thead>\n",
       "  <tbody>\n",
       "    <tr>\n",
       "      <th>0</th>\n",
       "      <td>go.</td>\n",
       "      <td>ve.</td>\n",
       "    </tr>\n",
       "    <tr>\n",
       "      <th>1</th>\n",
       "      <td>go.</td>\n",
       "      <td>vete.</td>\n",
       "    </tr>\n",
       "    <tr>\n",
       "      <th>2</th>\n",
       "      <td>go.</td>\n",
       "      <td>vaya.</td>\n",
       "    </tr>\n",
       "    <tr>\n",
       "      <th>3</th>\n",
       "      <td>go.</td>\n",
       "      <td>váyase.</td>\n",
       "    </tr>\n",
       "    <tr>\n",
       "      <th>4</th>\n",
       "      <td>hi.</td>\n",
       "      <td>hola.</td>\n",
       "    </tr>\n",
       "    <tr>\n",
       "      <th>...</th>\n",
       "      <td>...</td>\n",
       "      <td>...</td>\n",
       "    </tr>\n",
       "    <tr>\n",
       "      <th>139008</th>\n",
       "      <td>a carbon footprint is the amount of carbon dio...</td>\n",
       "      <td>una huella de carbono es la cantidad de contam...</td>\n",
       "    </tr>\n",
       "    <tr>\n",
       "      <th>139009</th>\n",
       "      <td>since there are usually multiple websites on a...</td>\n",
       "      <td>como suele haber varias páginas web sobre cual...</td>\n",
       "    </tr>\n",
       "    <tr>\n",
       "      <th>139010</th>\n",
       "      <td>if you want to sound like a native speaker, yo...</td>\n",
       "      <td>si quieres sonar como un hablante nativo, debe...</td>\n",
       "    </tr>\n",
       "    <tr>\n",
       "      <th>139011</th>\n",
       "      <td>it may be impossible to get a completely error...</td>\n",
       "      <td>puede que sea imposible obtener un corpus comp...</td>\n",
       "    </tr>\n",
       "    <tr>\n",
       "      <th>139012</th>\n",
       "      <td>one day, i woke up to find that god had put ha...</td>\n",
       "      <td>un día, me desperté y vi que dios me había pue...</td>\n",
       "    </tr>\n",
       "  </tbody>\n",
       "</table>\n",
       "<p>139013 rows × 2 columns</p>\n",
       "</div>\n",
       "      <button class=\"colab-df-convert\" onclick=\"convertToInteractive('df-3e8cb158-4a43-4182-9d1a-a2cb3dadc2b7')\"\n",
       "              title=\"Convert this dataframe to an interactive table.\"\n",
       "              style=\"display:none;\">\n",
       "        \n",
       "  <svg xmlns=\"http://www.w3.org/2000/svg\" height=\"24px\"viewBox=\"0 0 24 24\"\n",
       "       width=\"24px\">\n",
       "    <path d=\"M0 0h24v24H0V0z\" fill=\"none\"/>\n",
       "    <path d=\"M18.56 5.44l.94 2.06.94-2.06 2.06-.94-2.06-.94-.94-2.06-.94 2.06-2.06.94zm-11 1L8.5 8.5l.94-2.06 2.06-.94-2.06-.94L8.5 2.5l-.94 2.06-2.06.94zm10 10l.94 2.06.94-2.06 2.06-.94-2.06-.94-.94-2.06-.94 2.06-2.06.94z\"/><path d=\"M17.41 7.96l-1.37-1.37c-.4-.4-.92-.59-1.43-.59-.52 0-1.04.2-1.43.59L10.3 9.45l-7.72 7.72c-.78.78-.78 2.05 0 2.83L4 21.41c.39.39.9.59 1.41.59.51 0 1.02-.2 1.41-.59l7.78-7.78 2.81-2.81c.8-.78.8-2.07 0-2.86zM5.41 20L4 18.59l7.72-7.72 1.47 1.35L5.41 20z\"/>\n",
       "  </svg>\n",
       "      </button>\n",
       "      \n",
       "  <style>\n",
       "    .colab-df-container {\n",
       "      display:flex;\n",
       "      flex-wrap:wrap;\n",
       "      gap: 12px;\n",
       "    }\n",
       "\n",
       "    .colab-df-convert {\n",
       "      background-color: #E8F0FE;\n",
       "      border: none;\n",
       "      border-radius: 50%;\n",
       "      cursor: pointer;\n",
       "      display: none;\n",
       "      fill: #1967D2;\n",
       "      height: 32px;\n",
       "      padding: 0 0 0 0;\n",
       "      width: 32px;\n",
       "    }\n",
       "\n",
       "    .colab-df-convert:hover {\n",
       "      background-color: #E2EBFA;\n",
       "      box-shadow: 0px 1px 2px rgba(60, 64, 67, 0.3), 0px 1px 3px 1px rgba(60, 64, 67, 0.15);\n",
       "      fill: #174EA6;\n",
       "    }\n",
       "\n",
       "    [theme=dark] .colab-df-convert {\n",
       "      background-color: #3B4455;\n",
       "      fill: #D2E3FC;\n",
       "    }\n",
       "\n",
       "    [theme=dark] .colab-df-convert:hover {\n",
       "      background-color: #434B5C;\n",
       "      box-shadow: 0px 1px 3px 1px rgba(0, 0, 0, 0.15);\n",
       "      filter: drop-shadow(0px 1px 2px rgba(0, 0, 0, 0.3));\n",
       "      fill: #FFFFFF;\n",
       "    }\n",
       "  </style>\n",
       "\n",
       "      <script>\n",
       "        const buttonEl =\n",
       "          document.querySelector('#df-3e8cb158-4a43-4182-9d1a-a2cb3dadc2b7 button.colab-df-convert');\n",
       "        buttonEl.style.display =\n",
       "          google.colab.kernel.accessAllowed ? 'block' : 'none';\n",
       "\n",
       "        async function convertToInteractive(key) {\n",
       "          const element = document.querySelector('#df-3e8cb158-4a43-4182-9d1a-a2cb3dadc2b7');\n",
       "          const dataTable =\n",
       "            await google.colab.kernel.invokeFunction('convertToInteractive',\n",
       "                                                     [key], {});\n",
       "          if (!dataTable) return;\n",
       "\n",
       "          const docLinkHtml = 'Like what you see? Visit the ' +\n",
       "            '<a target=\"_blank\" href=https://colab.research.google.com/notebooks/data_table.ipynb>data table notebook</a>'\n",
       "            + ' to learn more about interactive tables.';\n",
       "          element.innerHTML = '';\n",
       "          dataTable['output_type'] = 'display_data';\n",
       "          await google.colab.output.renderOutput(dataTable, element);\n",
       "          const docLink = document.createElement('div');\n",
       "          docLink.innerHTML = docLinkHtml;\n",
       "          element.appendChild(docLink);\n",
       "        }\n",
       "      </script>\n",
       "    </div>\n",
       "  </div>\n",
       "  "
      ],
      "text/plain": [
       "                                                  English  \\\n",
       "0                                                     go.   \n",
       "1                                                     go.   \n",
       "2                                                     go.   \n",
       "3                                                     go.   \n",
       "4                                                     hi.   \n",
       "...                                                   ...   \n",
       "139008  a carbon footprint is the amount of carbon dio...   \n",
       "139009  since there are usually multiple websites on a...   \n",
       "139010  if you want to sound like a native speaker, yo...   \n",
       "139011  it may be impossible to get a completely error...   \n",
       "139012  one day, i woke up to find that god had put ha...   \n",
       "\n",
       "                                                  Spanish  \n",
       "0                                                     ve.  \n",
       "1                                                   vete.  \n",
       "2                                                   vaya.  \n",
       "3                                                 váyase.  \n",
       "4                                                   hola.  \n",
       "...                                                   ...  \n",
       "139008  una huella de carbono es la cantidad de contam...  \n",
       "139009  como suele haber varias páginas web sobre cual...  \n",
       "139010  si quieres sonar como un hablante nativo, debe...  \n",
       "139011  puede que sea imposible obtener un corpus comp...  \n",
       "139012  un día, me desperté y vi que dios me había pue...  \n",
       "\n",
       "[139013 rows x 2 columns]"
      ]
     },
     "execution_count": 9,
     "metadata": {},
     "output_type": "execute_result"
    }
   ],
   "source": [
    "df"
   ]
  },
  {
   "cell_type": "markdown",
   "metadata": {
    "id": "vimHXGvjZwxe"
   },
   "source": [
    "Dado que el modelo que se pide debe ser capaz de traducir de inglés a español y viceversa. Se forma el archivo de entrenamiento con los dos idiomas, aunque al hacer los modelos de manera independiente se logran mejores resultados."
   ]
  },
  {
   "cell_type": "code",
   "execution_count": 10,
   "metadata": {
    "id": "Cpyo1FY5Zwxf"
   },
   "outputs": [],
   "source": [
    "pd.concat([df[['Spanish', 'English']].rename(columns = {'English':'Spanish', 'Spanish':'English'}), df]).to_csv('eng-spa.txt', header=False, index = False, sep =  '\\t')"
   ]
  },
  {
   "cell_type": "markdown",
   "metadata": {
    "id": "90pq_drlZwxg"
   },
   "source": [
    "La siguiente clase se utilizará más adelante en el DataLoader"
   ]
  },
  {
   "cell_type": "code",
   "execution_count": 11,
   "metadata": {
    "id": "VydZuIv7Zwxh"
   },
   "outputs": [],
   "source": [
    "SOS_token = 0\n",
    "EOS_token = 1\n",
    "\n",
    "# Clase para mapear palabras a indices y viceversa\n",
    "class Lang:\n",
    "    def __init__(self, name):\n",
    "        self.name = name\n",
    "        self.word2index = {}\n",
    "        self.word2count = {}\n",
    "        self.index2word = {0: \"SOS\", 1: \"EOS\"}\n",
    "        self.n_words = 2  # Count SOS and EOS\n",
    "\n",
    "    def addSentence(self, sentence):\n",
    "        for word in sentence.split(' '):\n",
    "            self.addWord(word)\n",
    "\n",
    "    def addWord(self, word):\n",
    "        if word not in self.word2index:\n",
    "            self.word2index[word] = self.n_words\n",
    "            self.word2count[word] = 1\n",
    "            self.index2word[self.n_words] = word\n",
    "            self.n_words += 1\n",
    "        else:\n",
    "            self.word2count[word] += 1"
   ]
  },
  {
   "cell_type": "code",
   "execution_count": 12,
   "metadata": {
    "id": "p_2HN_BmZwxj"
   },
   "outputs": [],
   "source": [
    "# Turn a Unicode string to plain ASCII, thanks to\n",
    "# https://stackoverflow.com/a/518232/2809427\n",
    "def unicodeToAscii(s):\n",
    "    return ''.join(\n",
    "        c for c in unicodedata.normalize('NFD', s)\n",
    "        if unicodedata.category(c) != 'Mn'\n",
    "    )\n",
    "\n",
    "# Lowercase, trim, and remove non-letter characters\n",
    "def normalizeString(s):\n",
    "    s = unicodeToAscii(s.lower().strip())\n",
    "    s = re.sub(r\"([.!?])\", r\" \\1\", s)\n",
    "    s = re.sub(r\"[^a-zA-Z.!?]+\", r\" \", s)\n",
    "    return s\n"
   ]
  },
  {
   "cell_type": "code",
   "execution_count": 13,
   "metadata": {
    "id": "0OwMqoYSZwxk"
   },
   "outputs": [],
   "source": [
    "def readLangs(lang1, lang2, reverse=True):\n",
    "    print(\"Reading lines...\")\n",
    "\n",
    "    # Read the file and split into lines\n",
    "    lines = open('%s-%s.txt' % (lang1, lang2), encoding='utf-8').\\\n",
    "        read().strip().split('\\n')\n",
    "\n",
    "    # Split every line into pairs and normalize\n",
    "    pairs = [[normalizeString(s) for s in l.split('\\t')] for l in lines]\n",
    "\n",
    "    # Reverse pairs, make Lang instances\n",
    "    if reverse:\n",
    "        pairs = [list(reversed(p)) for p in pairs]\n",
    "        input_lang = Lang(lang2)\n",
    "        output_lang = Lang(lang1)\n",
    "    else:\n",
    "        input_lang = Lang(lang1)\n",
    "        output_lang = Lang(lang2)\n",
    "\n",
    "    return input_lang, output_lang, pairs"
   ]
  },
  {
   "cell_type": "markdown",
   "metadata": {
    "id": "pahFUkITZwxl"
   },
   "source": [
    "Primero se van a procesar las oraciones con longitud máxima de 10 y que empiecen con alguno de los siguientes prefijos\n"
   ]
  },
  {
   "cell_type": "code",
   "execution_count": 14,
   "metadata": {
    "id": "1RIQiMe-Zwxm"
   },
   "outputs": [],
   "source": [
    "MAX_LENGTH = 10\n",
    "\n",
    "eng_prefixes = [\n",
    "    \"i am \", \"i m \",\n",
    "    \"he is\", \"he s \",\n",
    "    \"she is\", \"she s \",\n",
    "    \"you are\", \"you re \",\n",
    "    \"we are\", \"we re \",\n",
    "    \"they are\", \"they re \", \"I don t\", \"Do you\", \"I want\", \"Are you\", \"I have\", \"I think\",\n",
    "       \"I can t\", \"I was\", \"He is\", \"I m not\", \"This is\", \"I just\", \"I didn t\",\n",
    "       \"I am\", \"I thought\", \"I know\", \"Tom is\", \"I had\", \"Did you\", \"Have you\",\n",
    "       \"Can you\", \"He was\", \"You don t\", \"I d like\", \"It was\", \"You should\",\n",
    "       \"Would you\", \"I like\", \"It is\", \"She is\", \"You can t\", \"He has\",\n",
    "       \"What do\", \"If you\", \"I need\", \"No one\", \"You are\", \"You have\",\n",
    "       \"I feel\", \"I really\", \"Why don t\", \"I hope\", \"I will\", \"We have\",\n",
    "       \"You re not\", \"You re very\", \"She was\", \"I love\", \"You must\", \"I can\"]\n",
    "eng_prefixes = tuple(map(lambda x: x.lower(), eng_prefixes))\n",
    "\n",
    "def filterPair(p):\n",
    "    return len(p[0].split(' ')) < MAX_LENGTH and \\\n",
    "        len(p[1].split(' ')) < MAX_LENGTH and \\\n",
    "        p[1].startswith(eng_prefixes)\n",
    "\n",
    "def filterPairs(pairs):\n",
    "    return [pair for pair in pairs if filterPair(pair)]\n"
   ]
  },
  {
   "cell_type": "code",
   "execution_count": 15,
   "metadata": {
    "colab": {
     "base_uri": "https://localhost:8080/"
    },
    "id": "dxlsx0yNZwxn",
    "outputId": "37f39143-c82f-4098-c5b5-072be5db394b"
   },
   "outputs": [
    {
     "name": "stdout",
     "output_type": "stream",
     "text": [
      "Reading lines...\n",
      "Read 278026 sentence pairs\n",
      "Trimmed to 32078 sentence pairs\n",
      "Counting words...\n",
      "Counted words:\n",
      "spa 9614\n",
      "eng 5732\n",
      "['me gusta tanto ver como practicar deportes .', 'i like both watching and playing sports .']\n"
     ]
    }
   ],
   "source": [
    "def prepareData(lang1, lang2, reverse=True):\n",
    "    input_lang, output_lang, pairs = readLangs(lang1, lang2, reverse)\n",
    "    print(\"Read %s sentence pairs\" % len(pairs))\n",
    "    pairs = filterPairs(pairs)\n",
    "    print(\"Trimmed to %s sentence pairs\" % len(pairs))\n",
    "    print(\"Counting words...\")\n",
    "    for pair in pairs:\n",
    "        input_lang.addSentence(pair[0])\n",
    "        output_lang.addSentence(pair[1])\n",
    "    print(\"Counted words:\")\n",
    "    print(input_lang.name, input_lang.n_words)\n",
    "    print(output_lang.name, output_lang.n_words)\n",
    "    return input_lang, output_lang, pairs\n",
    "\n",
    "input_lang, output_lang, pairs = prepareData('eng', 'spa', True)\n",
    "print(random.choice(pairs))"
   ]
  },
  {
   "cell_type": "code",
   "execution_count": 16,
   "metadata": {
    "colab": {
     "base_uri": "https://localhost:8080/"
    },
    "id": "R2lQrfM0Zwxp",
    "outputId": "3a7112b2-442b-4f26-e262-fb8042b85572"
   },
   "outputs": [
    {
     "data": {
      "text/plain": [
       "32078"
      ]
     },
     "execution_count": 16,
     "metadata": {},
     "output_type": "execute_result"
    }
   ],
   "source": [
    "len(pairs)"
   ]
  },
  {
   "cell_type": "code",
   "execution_count": 17,
   "metadata": {
    "colab": {
     "base_uri": "https://localhost:8080/"
    },
    "id": "r-vogOXGZwxp",
    "outputId": "8e91e628-4856-405e-bad6-3b46babfa0ee"
   },
   "outputs": [
    {
     "data": {
      "text/plain": [
       "device(type='cuda')"
      ]
     },
     "execution_count": 17,
     "metadata": {},
     "output_type": "execute_result"
    }
   ],
   "source": [
    "device = torch.device(\"cuda\" if torch.cuda.is_available() else \"cpu\")\n",
    "device"
   ]
  },
  {
   "cell_type": "markdown",
   "metadata": {
    "id": "CyMVuRdaZwxq"
   },
   "source": [
    "## Arquitectura del encoder"
   ]
  },
  {
   "cell_type": "code",
   "execution_count": 18,
   "metadata": {
    "id": "ZYz9p6LaZwxr"
   },
   "outputs": [],
   "source": [
    "class EncoderRNN(nn.Module):\n",
    "    def __init__(self, input_size, hidden_size):\n",
    "        super(EncoderRNN, self).__init__()\n",
    "        self.hidden_size = hidden_size\n",
    "        self.embedding = nn.Embedding(input_size, hidden_size)\n",
    "        self.gru = nn.GRU(hidden_size, hidden_size)\n",
    "        #self.lstm = nn.LSTM(hidden_size, hidden_size)\n",
    "\n",
    "    def forward(self, input, hidden):\n",
    "        embedded = self.embedding(input).view(1, 1, -1)\n",
    "        output = embedded\n",
    "        output, hidden = self.gru(output, hidden)\n",
    "        #output, (hidden, cell) = self.lstm(output,(hidden.to(device), cell.to(device)))\n",
    "        return output, hidden\n",
    "\n",
    "    def initHidden(self):\n",
    "        return torch.zeros(1, 1, self.hidden_size, device=device)"
   ]
  },
  {
   "cell_type": "markdown",
   "metadata": {
    "id": "AZk6fEUGZwxs"
   },
   "source": [
    "## Simple decoder"
   ]
  },
  {
   "cell_type": "code",
   "execution_count": 19,
   "metadata": {
    "id": "EYiQn_qHZwxs"
   },
   "outputs": [],
   "source": [
    "class DecoderRNN(nn.Module):\n",
    "    def __init__(self, hidden_size, output_size):\n",
    "        super(DecoderRNN, self).__init__()\n",
    "        self.hidden_size = hidden_size\n",
    "        self.embedding = nn.Embedding(output_size, hidden_size)\n",
    "        self.gru = nn.GRU(hidden_size, hidden_size)\n",
    "        self.out = nn.Linear(hidden_size, output_size)\n",
    "        self.softmax = nn.LogSoftmax(dim=1)\n",
    "\n",
    "    def forward(self, input, hidden):\n",
    "        output = self.embedding(input).view(1, 1, -1) #reshape\n",
    "        output = F.relu(output)\n",
    "        output, hidden = self.gru(output, hidden)\n",
    "        output = self.softmax(self.out(output[0]))\n",
    "        return output, hidden\n",
    "\n",
    "    def initHidden(self):\n",
    "        return torch.zeros(1, 1, self.hidden_size, device=device)"
   ]
  },
  {
   "cell_type": "markdown",
   "metadata": {
    "id": "obtTd0deZwxt"
   },
   "source": [
    "## Attention Decoder"
   ]
  },
  {
   "cell_type": "code",
   "execution_count": 20,
   "metadata": {
    "id": "EqqbNVyHZwxt"
   },
   "outputs": [],
   "source": [
    "class AttnDecoderRNN(nn.Module):\n",
    "    def __init__(self, hidden_size, output_size, dropout_p=0.1, max_length=MAX_LENGTH):\n",
    "        super(AttnDecoderRNN, self).__init__()\n",
    "        self.hidden_size = hidden_size\n",
    "        self.output_size = output_size\n",
    "        self.dropout_p = dropout_p\n",
    "        self.max_length = max_length\n",
    "\n",
    "        self.embedding = nn.Embedding(self.output_size, self.hidden_size)\n",
    "        self.attn = nn.Linear(self.hidden_size * 2, self.max_length)\n",
    "        self.attn_combine = nn.Linear(self.hidden_size * 2, self.hidden_size)\n",
    "        self.dropout = nn.Dropout(self.dropout_p)\n",
    "        self.gru = nn.GRU(self.hidden_size, self.hidden_size)\n",
    "        #self.lstm = nn.LSTM(self.hidden_size, self.hidden_size)\n",
    "        self.out = nn.Linear(self.hidden_size, self.output_size)\n",
    "\n",
    "    def forward(self, input, hidden, encoder_outputs):\n",
    "        embedded = self.embedding(input).view(1, 1, -1)\n",
    "        embedded = self.dropout(embedded)\n",
    "\n",
    "        attn_weights = F.softmax(\n",
    "            self.attn(torch.cat((embedded[0], hidden[0]), 1)), dim=1)\n",
    "        #Performs a batch matrix-matrix product of matrices (3-dimensional).\n",
    "        attn_applied = torch.bmm(attn_weights.unsqueeze(0),\n",
    "                                 encoder_outputs.unsqueeze(0))\n",
    "\n",
    "        output = torch.cat((embedded[0], attn_applied[0]), 1)\n",
    "        output = self.attn_combine(output).unsqueeze(0)\n",
    "\n",
    "        output = F.relu(output)\n",
    "        output, hidden = self.gru(output, hidden)\n",
    "        #outputs, (hidden, cell) = self.lstm(output, (hidden, encoder_outputs))\n",
    "\n",
    "        output = F.log_softmax(self.out(output[0]), dim=1)\n",
    "        return output, hidden, attn_weights\n",
    "\n",
    "    def initHidden(self):\n",
    "        return torch.zeros(1, 1, self.hidden_size, device=device)"
   ]
  },
  {
   "cell_type": "markdown",
   "metadata": {
    "id": "J1aSDI_vZwxu"
   },
   "source": [
    "## Preparación de datos de entrenamiento"
   ]
  },
  {
   "cell_type": "code",
   "execution_count": 21,
   "metadata": {
    "id": "VZIa37_YZwxv"
   },
   "outputs": [],
   "source": [
    "def indexesFromSentence(lang, sentence):\n",
    "    return [lang.word2index[word] for word in sentence.split(' ')]\n",
    "\n",
    "\n",
    "def tensorFromSentence(lang, sentence):\n",
    "    indexes = indexesFromSentence(lang, sentence)\n",
    "    indexes.append(EOS_token)\n",
    "    return torch.tensor(indexes, dtype=torch.long, device=device).view(-1, 1)\n",
    "\n",
    "\n",
    "def tensorsFromPair(pair):\n",
    "    input_tensor = tensorFromSentence(input_lang, pair[0])\n",
    "    target_tensor = tensorFromSentence(output_lang, pair[1])\n",
    "    return (input_tensor, target_tensor)"
   ]
  },
  {
   "cell_type": "markdown",
   "metadata": {
    "id": "TsEj-Y9MZwxw"
   },
   "source": [
    "## Entrenamiento del modelo"
   ]
  },
  {
   "cell_type": "code",
   "execution_count": 22,
   "metadata": {
    "id": "wXGjMkJnZwxw"
   },
   "outputs": [],
   "source": [
    "teacher_forcing_ratio = 0.5\n",
    "\n",
    "\n",
    "def train(input_tensor, target_tensor, encoder, decoder, encoder_optimizer, decoder_optimizer, criterion, max_length=MAX_LENGTH):\n",
    "    encoder_hidden = encoder.initHidden()\n",
    "\n",
    "    encoder_optimizer.zero_grad()\n",
    "    decoder_optimizer.zero_grad()\n",
    "\n",
    "    input_length = input_tensor.size(0)\n",
    "    target_length = target_tensor.size(0)\n",
    "\n",
    "    encoder_outputs = torch.zeros(max_length, encoder.hidden_size, device=device)\n",
    "\n",
    "    loss = 0\n",
    "\n",
    "    for ei in range(input_length):\n",
    "        encoder_output, encoder_hidden = encoder(\n",
    "            input_tensor[ei], encoder_hidden)\n",
    "        encoder_outputs[ei] = encoder_output[0, 0]\n",
    "\n",
    "    decoder_input = torch.tensor([[SOS_token]], device=device)\n",
    "\n",
    "    decoder_hidden = encoder_hidden\n",
    "\n",
    "    use_teacher_forcing = True if random.random() < teacher_forcing_ratio else False\n",
    "\n",
    "    if use_teacher_forcing:\n",
    "        # Teacher forcing: Feed the target as the next input\n",
    "        for di in range(target_length):\n",
    "            decoder_output, decoder_hidden, decoder_attention = decoder(\n",
    "                decoder_input, decoder_hidden, encoder_outputs)\n",
    "            loss += criterion(decoder_output, target_tensor[di])\n",
    "            decoder_input = target_tensor[di]  # Teacher forcing\n",
    "\n",
    "    else:\n",
    "        # Without teacher forcing: use its own predictions as the next input\n",
    "        for di in range(target_length):\n",
    "            decoder_output, decoder_hidden, decoder_attention = decoder(\n",
    "                decoder_input, decoder_hidden, encoder_outputs)\n",
    "            topv, topi = decoder_output.topk(1)\n",
    "            decoder_input = topi.squeeze().detach()  # detach from history as input\n",
    "\n",
    "            loss += criterion(decoder_output, target_tensor[di])\n",
    "            if decoder_input.item() == EOS_token:\n",
    "                break\n",
    "\n",
    "    loss.backward()\n",
    "\n",
    "    encoder_optimizer.step()\n",
    "    decoder_optimizer.step()\n",
    "\n",
    "    return loss.item() / target_length"
   ]
  },
  {
   "cell_type": "markdown",
   "metadata": {
    "id": "oEcXcpXMZwxx"
   },
   "source": [
    "La siguiente función imprme el tiempo transcurrido y el tiempo restante estimado dado el tiempo actual y el porcentaje de progreso"
   ]
  },
  {
   "cell_type": "code",
   "execution_count": 23,
   "metadata": {
    "id": "hQKLzWTOZwxy"
   },
   "outputs": [],
   "source": [
    "import time\n",
    "import math\n",
    "\n",
    "def asMinutes(s):\n",
    "    m = math.floor(s / 60)\n",
    "    s -= m * 60\n",
    "    return '%dm %ds' % (m, s)\n",
    "\n",
    "def timeSince(since, percent):\n",
    "    now = time.time()\n",
    "    s = now - since\n",
    "    es = s / (percent)\n",
    "    rs = es - s\n",
    "    return '%s (- %s)' % (asMinutes(s), asMinutes(rs))"
   ]
  },
  {
   "cell_type": "markdown",
   "metadata": {
    "id": "a4dixxACZwxz"
   },
   "source": [
    "Todo el proceso de entrenamiento es así:\n",
    "- Iniciar temporazidar\n",
    "- Inicializar los optimizadores y el criterio\n",
    "- Crear el conjunto de pares de entrenamiento\n",
    "- Inicializar un array vacío  de perdidas para graficar\n",
    "\n",
    "Luego entrenamos muchas veces y ocasionalmente imprimimos el progreso y la perdída promedio."
   ]
  },
  {
   "cell_type": "code",
   "execution_count": 24,
   "metadata": {
    "id": "gKV9qLMOZwxz"
   },
   "outputs": [],
   "source": [
    "def trainIters(encoder, decoder, n_iters, print_every=1000, plot_every=100, learning_rate=0.01):\n",
    "    start = time.time()\n",
    "    plot_losses = []\n",
    "    print_loss_total = 0  # Reset every print_every\n",
    "    plot_loss_total = 0  # Reset every plot_every\n",
    "\n",
    "    encoder_optimizer = optim.SGD(encoder.parameters(), lr=learning_rate)\n",
    "    decoder_optimizer = optim.SGD(decoder.parameters(), lr=learning_rate)\n",
    "    training_pairs = [tensorsFromPair(random.choice(pairs))\n",
    "                      for i in range(n_iters)]\n",
    "    criterion = nn.NLLLoss()\n",
    "\n",
    "    for iter in range(1, n_iters + 1):\n",
    "        training_pair = training_pairs[iter - 1]\n",
    "        input_tensor = training_pair[0]\n",
    "        target_tensor = training_pair[1]\n",
    "\n",
    "        loss = train(input_tensor, target_tensor, encoder,\n",
    "                     decoder, encoder_optimizer, decoder_optimizer, criterion)\n",
    "        print_loss_total += loss\n",
    "        plot_loss_total += loss\n",
    "\n",
    "        if iter % print_every == 0:\n",
    "            print_loss_avg = print_loss_total / print_every\n",
    "            print_loss_total = 0\n",
    "            print('%s (%d %d%%) %.4f' % (timeSince(start, iter / n_iters),\n",
    "                                         iter, iter / n_iters * 100, print_loss_avg))\n",
    "\n",
    "        if iter % plot_every == 0:\n",
    "            plot_loss_avg = plot_loss_total / plot_every\n",
    "            plot_losses.append(plot_loss_avg)\n",
    "            plot_loss_total = 0\n",
    "\n",
    "    showPlot(plot_losses)"
   ]
  },
  {
   "cell_type": "markdown",
   "metadata": {
    "id": "cjSX8Yc8Zwx0"
   },
   "source": [
    "## Plotting results"
   ]
  },
  {
   "cell_type": "markdown",
   "metadata": {
    "id": "bKICpcJEZwx1"
   },
   "source": [
    "Para graficar se utiliza el array de pérdidas plot_losses guardado durante el entrenamiento."
   ]
  },
  {
   "cell_type": "code",
   "execution_count": 25,
   "metadata": {
    "id": "_44ykxNRZwx1"
   },
   "outputs": [],
   "source": [
    "import matplotlib.pyplot as plt\n",
    "#plt.switch_backend('agg')\n",
    "import matplotlib.ticker as ticker\n",
    "import numpy as np\n",
    "%matplotlib inline\n",
    "\n",
    "def showPlot(points):\n",
    "    plt.figure()\n",
    "    fig, ax = plt.subplots()\n",
    "    # this locator puts ticks at regular intervals\n",
    "    loc = ticker.MultipleLocator(base=0.2)\n",
    "    ax.yaxis.set_major_locator(loc)\n",
    "    plt.plot(points)"
   ]
  },
  {
   "cell_type": "markdown",
   "metadata": {
    "id": "1gCtv1UAZwx2"
   },
   "source": [
    "## Evaluación"
   ]
  },
  {
   "cell_type": "markdown",
   "metadata": {
    "id": "C0Tft0jMZwx3"
   },
   "source": [
    "La evaluación es prácticamente igual que el entrenamiento, pero no hay targets, por lo que simplemente alimentamos las predicciones del descodificador para cada paso. Cada vez que predice una palabra la añadimos a la cadena de salida, y si predice el token EOS nos detenemos ahí. También almacenamos las salidas de atención del decodificador para mostrarlas más tarde."
   ]
  },
  {
   "cell_type": "code",
   "execution_count": 26,
   "metadata": {
    "id": "RpyRRBuvZwx3"
   },
   "outputs": [],
   "source": [
    "def evaluate(encoder, decoder, sentence, max_length=MAX_LENGTH):\n",
    "    with torch.no_grad():\n",
    "        input_tensor = tensorFromSentence(input_lang, sentence)\n",
    "        input_length = input_tensor.size()[0]\n",
    "        encoder_hidden = encoder.initHidden()\n",
    "\n",
    "        encoder_outputs = torch.zeros(max_length, encoder.hidden_size, device=device)\n",
    "\n",
    "        for ei in range(input_length):\n",
    "            encoder_output, encoder_hidden = encoder(input_tensor[ei],\n",
    "                                                     encoder_hidden)\n",
    "            encoder_outputs[ei] += encoder_output[0, 0]\n",
    "\n",
    "        decoder_input = torch.tensor([[SOS_token]], device=device)  # SOS\n",
    "\n",
    "        decoder_hidden = encoder_hidden\n",
    "\n",
    "        decoded_words = []\n",
    "        decoder_attentions = torch.zeros(max_length, max_length)\n",
    "\n",
    "        for di in range(max_length):\n",
    "            decoder_output, decoder_hidden, decoder_attention = decoder(\n",
    "                decoder_input, decoder_hidden, encoder_outputs)\n",
    "            decoder_attentions[di] = decoder_attention.data\n",
    "            topv, topi = decoder_output.data.topk(1)\n",
    "            if topi.item() == EOS_token:\n",
    "                decoded_words.append('')\n",
    "                break\n",
    "            else:\n",
    "                decoded_words.append(output_lang.index2word[topi.item()])\n",
    "\n",
    "            decoder_input = topi.squeeze().detach()\n",
    "\n",
    "        return decoded_words, decoder_attentions[:di + 1]"
   ]
  },
  {
   "cell_type": "markdown",
   "metadata": {
    "id": "uC22sX_fZwx4"
   },
   "source": [
    "La siguiente función evualúa aleatoriamente pares de frases, para poder comparar con la traducción correcta y la que se generó mediante el modelo."
   ]
  },
  {
   "cell_type": "code",
   "execution_count": 27,
   "metadata": {
    "id": "cq5GwET8Zwx5"
   },
   "outputs": [],
   "source": [
    "def evaluateRandomly(encoder, decoder, n=10):\n",
    "    for i in range(n):\n",
    "        pair = random.choice(pairs)\n",
    "        print('>', pair[0])\n",
    "        print('=', pair[1])\n",
    "        output_words, attentions = evaluate(encoder, decoder, pair[0])\n",
    "        output_sentence = ' '.join(output_words)\n",
    "        print('<', output_sentence)\n",
    "        print('')"
   ]
  },
  {
   "cell_type": "code",
   "execution_count": 28,
   "metadata": {
    "colab": {
     "base_uri": "https://localhost:8080/"
    },
    "id": "N97mCptSZwx5",
    "outputId": "5b6f3f77-62e6-407e-bee7-2213ff98785d"
   },
   "outputs": [
    {
     "data": {
      "text/plain": [
       "9614"
      ]
     },
     "execution_count": 28,
     "metadata": {},
     "output_type": "execute_result"
    }
   ],
   "source": [
    "input_lang.n_words"
   ]
  },
  {
   "cell_type": "code",
   "execution_count": 29,
   "metadata": {
    "colab": {
     "base_uri": "https://localhost:8080/"
    },
    "id": "WbSTgsQEZwx6",
    "outputId": "efdc7050-55c5-45da-ace7-5844dd2620c2"
   },
   "outputs": [
    {
     "data": {
      "text/plain": [
       "(5732,)"
      ]
     },
     "execution_count": 29,
     "metadata": {},
     "output_type": "execute_result"
    }
   ],
   "source": [
    "output_lang.n_words,"
   ]
  },
  {
   "cell_type": "markdown",
   "metadata": {
    "id": "Hdm0dvjfZwx7"
   },
   "source": [
    "\n",
    "## Entrenamiento y evaluación"
   ]
  },
  {
   "cell_type": "markdown",
   "metadata": {
    "id": "st8de2ioZwx7"
   },
   "source": [
    "Para la evaluación del modelo se realizan 50000 iteraciones. EL número de unidades ocultas es de 500, ya que dentro de la experimentación se observó que el aumentar el número de unidades ocultas daba mejores resultados en cuánto a la pérdida del modelo."
   ]
  },
  {
   "cell_type": "code",
   "execution_count": 30,
   "metadata": {
    "colab": {
     "base_uri": "https://localhost:8080/"
    },
    "id": "GiYoGHBuZ2-b",
    "outputId": "922f0688-3fbc-442b-ac90-8a1498b80a3a"
   },
   "outputs": [
    {
     "name": "stdout",
     "output_type": "stream",
     "text": [
      "Drive already mounted at /content/drive; to attempt to forcibly remount, call drive.mount(\"/content/drive\", force_remount=True).\n"
     ]
    }
   ],
   "source": [
    "from google.colab import drive\n",
    "drive.mount('/content/drive')"
   ]
  },
  {
   "cell_type": "code",
   "execution_count": 31,
   "metadata": {
    "colab": {
     "base_uri": "https://localhost:8080/",
     "height": 1000
    },
    "id": "OpKiYhMjZwx8",
    "outputId": "c964d13c-389e-407d-a595-8bb425cc972c"
   },
   "outputs": [
    {
     "name": "stdout",
     "output_type": "stream",
     "text": [
      "0m 21s (- 17m 20s) (1000 2%) 4.1463\n",
      "0m 39s (- 15m 41s) (2000 4%) 3.7506\n",
      "0m 56s (- 14m 42s) (3000 6%) 3.4642\n",
      "1m 13s (- 14m 1s) (4000 8%) 3.2528\n",
      "1m 30s (- 13m 32s) (5000 10%) 3.1443\n",
      "1m 48s (- 13m 12s) (6000 12%) 3.0208\n",
      "2m 5s (- 12m 53s) (7000 14%) 2.8747\n",
      "2m 23s (- 12m 34s) (8000 16%) 2.7770\n",
      "2m 41s (- 12m 13s) (9000 18%) 2.7226\n",
      "2m 58s (- 11m 53s) (10000 20%) 2.5751\n",
      "3m 15s (- 11m 33s) (11000 22%) 2.5798\n",
      "3m 32s (- 11m 14s) (12000 24%) 2.4844\n",
      "3m 50s (- 10m 54s) (13000 26%) 2.4304\n",
      "4m 7s (- 10m 37s) (14000 28%) 2.4122\n",
      "4m 25s (- 10m 18s) (15000 30%) 2.3642\n",
      "4m 42s (- 10m 0s) (16000 32%) 2.3008\n",
      "5m 3s (- 9m 48s) (17000 34%) 2.2698\n",
      "5m 20s (- 9m 29s) (18000 36%) 2.1999\n",
      "5m 38s (- 9m 12s) (19000 38%) 2.1494\n",
      "5m 56s (- 8m 54s) (20000 40%) 2.0829\n",
      "6m 14s (- 8m 37s) (21000 42%) 2.0441\n",
      "6m 31s (- 8m 18s) (22000 44%) 1.9961\n",
      "6m 49s (- 8m 0s) (23000 46%) 2.0434\n",
      "7m 6s (- 7m 42s) (24000 48%) 1.9717\n",
      "7m 24s (- 7m 24s) (25000 50%) 1.9229\n",
      "7m 42s (- 7m 6s) (26000 52%) 1.8559\n",
      "7m 59s (- 6m 48s) (27000 54%) 1.9048\n",
      "8m 17s (- 6m 30s) (28000 56%) 1.8698\n",
      "8m 34s (- 6m 12s) (29000 57%) 1.8166\n",
      "8m 52s (- 5m 54s) (30000 60%) 1.7960\n",
      "9m 9s (- 5m 37s) (31000 62%) 1.7389\n",
      "9m 30s (- 5m 20s) (32000 64%) 1.7570\n",
      "9m 48s (- 5m 3s) (33000 66%) 1.6996\n",
      "10m 6s (- 4m 45s) (34000 68%) 1.7040\n",
      "10m 25s (- 4m 28s) (35000 70%) 1.7229\n",
      "10m 42s (- 4m 10s) (36000 72%) 1.6872\n",
      "11m 0s (- 3m 52s) (37000 74%) 1.5783\n",
      "11m 18s (- 3m 34s) (38000 76%) 1.6622\n",
      "11m 35s (- 3m 16s) (39000 78%) 1.5798\n",
      "11m 53s (- 2m 58s) (40000 80%) 1.5426\n",
      "12m 10s (- 2m 40s) (41000 82%) 1.5573\n",
      "12m 28s (- 2m 22s) (42000 84%) 1.5715\n",
      "12m 46s (- 2m 4s) (43000 86%) 1.4828\n",
      "13m 4s (- 1m 46s) (44000 88%) 1.5282\n",
      "13m 25s (- 1m 29s) (45000 90%) 1.4718\n",
      "13m 44s (- 1m 11s) (46000 92%) 1.5106\n",
      "14m 2s (- 0m 53s) (47000 94%) 1.4935\n",
      "14m 22s (- 0m 35s) (48000 96%) 1.5324\n",
      "14m 40s (- 0m 17s) (49000 98%) 1.4662\n",
      "14m 58s (- 0m 0s) (50000 100%) 1.4183\n"
     ]
    },
    {
     "data": {
      "text/plain": [
       "<Figure size 432x288 with 0 Axes>"
      ]
     },
     "metadata": {},
     "output_type": "display_data"
    },
    {
     "data": {
      "image/png": "[encoded data removed]",
      "text/plain": [
       "<Figure size 432x288 with 1 Axes>"
      ]
     },
     "metadata": {
      "needs_background": "light"
     },
     "output_type": "display_data"
    }
   ],
   "source": [
    "hidden_size = 500\n",
    "encoder1 = EncoderRNN(input_lang.n_words, hidden_size).to(device)\n",
    "attn_decoder1 = AttnDecoderRNN(hidden_size, output_lang.n_words, dropout_p=0.1).to(device)\n",
    "\n",
    "trainIters(encoder1, attn_decoder1, 50000, print_every=1000)"
   ]
  },
  {
   "cell_type": "code",
   "execution_count": 32,
   "metadata": {
    "colab": {
     "base_uri": "https://localhost:8080/"
    },
    "id": "I6oCd1lUZwx9",
    "outputId": "dcdc5ed3-4a1a-4ad8-a803-fbb558cb76cc"
   },
   "outputs": [
    {
     "name": "stdout",
     "output_type": "stream",
     "text": [
      "> creo que quiero estar solo .\n",
      "= i think i d like to be alone .\n",
      "< i think i just want to be alone . \n",
      "\n",
      "> esto no es lo que ordene .\n",
      "= this isn t what i ordered .\n",
      "< this is not what i . . \n",
      "\n",
      "> yo no era infiel .\n",
      "= i wasn t unfaithful .\n",
      "< i wasn t that . \n",
      "\n",
      "> ella es todo para el .\n",
      "= she is everything to him .\n",
      "< she is all for him for him . \n",
      "\n",
      "> ellas son mayores que tom .\n",
      "= they are older than tom .\n",
      "< they re my older than tom . \n",
      "\n",
      "> no quieres ir verdad ?\n",
      "= you don t want to go do you ?\n",
      "< you don t want to do now ? \n",
      "\n",
      "> estoy listo para seguirte .\n",
      "= i am ready to follow you .\n",
      "< i m ready to follow you . \n",
      "\n",
      ">  puedes decirme la hora exacta por favor ?\n",
      "= can you tell me the exact time please ?\n",
      "< can you please the the ? ? \n",
      "\n",
      ">  sabes algo de su familia ?\n",
      "= do you know anything about his family ?\n",
      "< do you know anything from his family ? \n",
      "\n",
      "> estoy adjuntando tres archivos .\n",
      "= i m attaching three files .\n",
      "< i m pretty three three . . \n",
      "\n"
     ]
    }
   ],
   "source": [
    "evaluateRandomly(encoder1, attn_decoder1)"
   ]
  },
  {
   "cell_type": "markdown",
   "metadata": {
    "id": "ZihifUzeZwx-"
   },
   "source": [
    "**Solución de b)**"
   ]
  },
  {
   "cell_type": "markdown",
   "metadata": {
    "id": "tIkb0b5BeHid"
   },
   "source": [
    "Ahora, implementamos una función que sirva para traducir una oración de entrada. A continuación se muestra que el traductor es capaz de traducir alguna oración cuyas palabras que lo conformen estén en el corpus, sin embargo, para palabras que no están en el corpus, el traductor no serviviría. A continuaución se muestran los resultados obtenidos."
   ]
  },
  {
   "cell_type": "code",
   "execution_count": 33,
   "metadata": {
    "id": "AjPzhxrpZwx_"
   },
   "outputs": [],
   "source": [
    "def translate_text(encoder, decoder, source_txt):\n",
    "    print('>', source_txt)\n",
    "    output_words, attentions = evaluate(encoder, decoder, source_txt)\n",
    "    output_sentence = ' '.join(output_words)\n",
    "    print('<', output_sentence)"
   ]
  },
  {
   "cell_type": "code",
   "execution_count": 34,
   "metadata": {
    "colab": {
     "base_uri": "https://localhost:8080/"
    },
    "id": "Xh-XGiwbe8-T",
    "outputId": "1efacf0c-ce82-46e3-c084-a6a07391780d"
   },
   "outputs": [
    {
     "name": "stdout",
     "output_type": "stream",
     "text": [
      "['tengo que limpiar el aseo .', 'i have to clean the bathroom .']\n",
      "['no puedo decir nada sobre ello .', 'i can t say anything about that .']\n",
      "['tom no esta mintiendo .', 'tom isn t lying .']\n"
     ]
    }
   ],
   "source": [
    "sentence_1 = random.choice(pairs)\n",
    "sentence_2 = random.choice(pairs)\n",
    "sentence_3 = random.choice(pairs)\n",
    "print(sentence_1)\n",
    "print(sentence_2)\n",
    "print(sentence_3)"
   ]
  },
  {
   "cell_type": "code",
   "execution_count": 44,
   "metadata": {
    "colab": {
     "base_uri": "https://localhost:8080/"
    },
    "id": "kun_jjNQe6CI",
    "outputId": "aafa4913-fde2-4d27-e5ec-6f40ad8821a0"
   },
   "outputs": [
    {
     "name": "stdout",
     "output_type": "stream",
     "text": [
      "> tengo que limpiar el aseo .\n",
      "< i have to help you . . \n",
      "> el aseo tengo que limpiar .\n",
      "< i have a to to . . \n",
      "> no puedo decir nada sobre ello .\n",
      "< i can t remember anything about it . \n",
      "> decir nada sobre ello no puedo .\n",
      "< i can remember anything about it . \n",
      "> no puedo limpiar el aseo .\n",
      "< i can t help you . . \n"
     ]
    }
   ],
   "source": [
    "translate_text(encoder1,attn_decoder1,sentence_1[0])\n",
    "new_sentence_1 = 'el aseo tengo que limpiar .'\n",
    "translate_text(encoder1,attn_decoder1,new_sentence_1)\n",
    "translate_text(encoder1,attn_decoder1,sentence_2[0])\n",
    "new_sentence_2 = 'decir nada sobre ello no puedo .'\n",
    "translate_text(encoder1,attn_decoder1,new_sentence_2)\n",
    "translate_text(encoder1,attn_decoder1,'no puedo limpiar el aseo .')"
   ]
  },
  {
   "cell_type": "markdown",
   "metadata": {
    "id": "3_Vg5ReqQTkB"
   },
   "source": [
    "La tarea de traducción automática se ve que en general es buena, y el traductor es capaz de traducir nuevas oraciones siempre y cuando las palabras que la conforman estan en el corpus, tal y como se muestra en el bloque anterior, donde es capaz de traducir la oracion 'no puedo limpiar el aseo', que es una combinación de dos oraciones que si están en el corpus. A continuación visualizamos los pesos de atención de la oración 3 y su respectiva traducción."
   ]
  },
  {
   "cell_type": "code",
   "execution_count": 45,
   "metadata": {
    "colab": {
     "base_uri": "https://localhost:8080/",
     "height": 292
    },
    "id": "Ty3yGHvQZwx_",
    "outputId": "0c90ef9c-ca5a-4d74-8cdd-7a3efaec2278"
   },
   "outputs": [
    {
     "data": {
      "text/plain": [
       "<matplotlib.image.AxesImage at 0x7f33094369d0>"
      ]
     },
     "execution_count": 45,
     "metadata": {},
     "output_type": "execute_result"
    },
    {
     "data": {
      "image/png": "[encoded data removed]",
      "text/plain": [
       "<Figure size 480x288 with 1 Axes>"
      ]
     },
     "metadata": {
      "needs_background": "light"
     },
     "output_type": "display_data"
    }
   ],
   "source": [
    "import matplotlib\n",
    "import matplotlib.pyplot as plt\n",
    "\n",
    "output_words, attentions = evaluate(\n",
    "    encoder1, attn_decoder1, \"tom no esta mintiendo .\")\n",
    "plt.matshow(attentions.numpy())"
   ]
  },
  {
   "cell_type": "code",
   "execution_count": 38,
   "metadata": {
    "id": "NWGcUmxJZwyA"
   },
   "outputs": [],
   "source": [
    "def showAttention(input_sentence, output_words, attentions):\n",
    "    # Set up figure with colorbar\n",
    "    fig = plt.figure()\n",
    "    ax = fig.add_subplot(111)\n",
    "    cax = ax.matshow(attentions.numpy(), cmap='bone')\n",
    "    fig.colorbar(cax)\n",
    "\n",
    "    # Set up axes\n",
    "    ax.set_xticklabels([''] + input_sentence.split(' ') +\n",
    "                       [''], rotation=90)\n",
    "    ax.set_yticklabels([''] + output_words)\n",
    "\n",
    "    # Show label at every tick\n",
    "    ax.xaxis.set_major_locator(ticker.MultipleLocator(1))\n",
    "    ax.yaxis.set_major_locator(ticker.MultipleLocator(1))\n",
    "\n",
    "    plt.show()\n",
    "\n",
    "\n",
    "def evaluateAndShowAttention(input_sentence):\n",
    "    output_words, attentions = evaluate(\n",
    "        encoder1, attn_decoder1, input_sentence)\n",
    "    print('input =', input_sentence)\n",
    "    print('output =', ' '.join(output_words))\n",
    "    showAttention(input_sentence, output_words, attentions)"
   ]
  },
  {
   "cell_type": "code",
   "execution_count": 49,
   "metadata": {
    "colab": {
     "base_uri": "https://localhost:8080/"
    },
    "id": "BxPBbxERVaZS",
    "outputId": "95f249af-5657-4382-f5f1-6fc699fb8934"
   },
   "outputs": [
    {
     "name": "stdout",
     "output_type": "stream",
     "text": [
      "> tom no esta mintiendo .\n",
      "< tom is not lying . \n"
     ]
    }
   ],
   "source": [
    "translate_text(encoder1,attn_decoder1,'tom no esta mintiendo .')"
   ]
  },
  {
   "cell_type": "code",
   "execution_count": 50,
   "metadata": {
    "colab": {
     "base_uri": "https://localhost:8080/",
     "height": 608
    },
    "id": "R6Jg5WbxZwyB",
    "outputId": "898d98cb-2392-400f-9f63-2900ee2fdf88"
   },
   "outputs": [
    {
     "name": "stdout",
     "output_type": "stream",
     "text": [
      "input = tom no esta mintiendo .\n",
      "output = tom is not lying . \n"
     ]
    },
    {
     "data": {
      "image/png": "[encoded data removed]",
      "text/plain": [
       "<Figure size 432x288 with 2 Axes>"
      ]
     },
     "metadata": {
      "needs_background": "light"
     },
     "output_type": "display_data"
    },
    {
     "name": "stdout",
     "output_type": "stream",
     "text": [
      "input = el es buena persona .\n",
      "output = he is good person . \n"
     ]
    },
    {
     "data": {
      "image/png": "[encoded data removed]",
      "text/plain": [
       "<Figure size 432x288 with 2 Axes>"
      ]
     },
     "metadata": {
      "needs_background": "light"
     },
     "output_type": "display_data"
    }
   ],
   "source": [
    "evaluateAndShowAttention(\"tom no esta mintiendo .\")\n",
    "evaluateAndShowAttention(\"el es buena persona .\")"
   ]
  },
  {
   "cell_type": "markdown",
   "metadata": {
    "id": "mRLLhpe7U6mK"
   },
   "source": [
    "Podemos obsevar que la traducción de la oración es buena, y de visualización se nota que los pesos de atención son correctos, por lo tanto concluimos que el modelo tiene un buen alineamiento. Además de que no se nota que existan palabras repetidas.\n"
   ]
  },
  {
   "cell_type": "markdown",
   "metadata": {
    "id": "p7VkkUGZXpqo"
   },
   "source": [
    "**Solución de d)**\n",
    "\n"
   ]
  },
  {
   "cell_type": "markdown",
   "metadata": {
    "id": "apsu5LljXvTS"
   },
   "source": [
    "Los modelos de atención global y local propuestas por Luong et. al., (2015), a diferencia del modelo de Bahdanau et. al., (2015) ofrece algunas mejoras. La dferencia entre Bahdanau y los otros dos, es en como se calculan los scores de atención.\n",
    "\n",
    "La forma general del cálculo de la atención recae en el estado oculto del target (decodificador) y el correspondiente origen (codificador), normalizado sobre todos los estados para obtener valores que sumen 1.\n",
    "\n",
    "La función que calcula el score se basa en una operación que puede ser el producto punto, o una operación general que es un prodcuto punto entre el estado oculto del decodificador y una transformación lineal entre del estado del codificador, o concatenar: un producto punto entre un nuevo parámetro y una transformación lineal de los estados concatenados.\n",
    "\n",
    "De esta manera, la forma en la que se calcula el score definirá la atención del modelo. A partir de los resultados obtenidos por  Luong et. al., (2015), se optaría por un modelo con mecanismo atención local o glabal que el modelo de Bahdanau et. al."
   ]
  }
 ],
 "metadata": {
  "accelerator": "GPU",
  "colab": {
   "provenance": []
  },
  "gpuClass": "standard",
  "kernelspec": {
   "display_name": "Python 3 (ipykernel)",
   "language": "python",
   "name": "python3"
  },
  "language_info": {
   "codemirror_mode": {
    "name": "ipython",
    "version": 3
   },
   "file_extension": ".py",
   "mimetype": "text/x-python",
   "name": "python",
   "nbconvert_exporter": "python",
   "pygments_lexer": "ipython3",
   "version": "3.9.12"
  },
  "latex_envs": {
   "LaTeX_envs_menu_present": true,
   "autoclose": false,
   "autocomplete": true,
   "bibliofile": "biblio.bib",
   "cite_by": "apalike",
   "current_citInitial": 1,
   "eqLabelWithNumbers": true,
   "eqNumInitial": 1,
   "hotkeys": {
    "equation": "Ctrl-E",
    "itemize": "Ctrl-I"
   },
   "labels_anchors": false,
   "latex_user_defs": false,
   "report_style_numbering": false,
   "user_envs_cfg": false
  },
  "toc": {
   "base_numbering": 1,
   "nav_menu": {},
   "number_sections": false,
   "sideBar": true,
   "skip_h1_title": false,
   "title_cell": "Table of Contents",
   "title_sidebar": "Contents",
   "toc_cell": false,
   "toc_position": {},
   "toc_section_display": true,
   "toc_window_display": false
  }
 },
 "nbformat": 4,
 "nbformat_minor": 1
}
